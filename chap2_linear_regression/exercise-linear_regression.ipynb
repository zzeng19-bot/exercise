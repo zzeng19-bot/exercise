import numpy as np
import matplotlib.pyplot as plt

def load_data(filename):
    """载入数据。"""
    xys = []
    with open(filename, 'r') as f:
        for line in f:
            xys.append(list(map(float, line.strip().split())))
        xs, ys = zip(*xys)
        return np.asarray(xs), np.asarray(ys)

def identity_basis(x):
    """恒等基函数"""
    ret = np.expand_dims(x, axis=1)
    return ret

def multinomial_basis(x, feature_num=10):
    '''多项式基函数'''
    x = np.expand_dims(x, axis=1)  # shape(N, 1)
    # Generate polynomial features up to feature_num degree
    ret = np.concatenate([x**i for i in range(1, feature_num+1)], axis=1)
    return ret

def gaussian_basis(x, feature_num=10):
    '''高斯基函数'''
    x = np.expand_dims(x, axis=1)  # shape(N, 1)
    centers = np.linspace(0, 25, feature_num)  # Centers for Gaussian functions
    sigma = 1.0  # Standard deviation for the Gaussian functions
    # Gaussian function formula
    ret = np.exp(-0.5 * ((x - centers)**2) / sigma**2)
    return ret

def least_squares(x_train, y_train, basis_func):
    """使用最小二乘法优化模型参数"""
    phi0 = np.expand_dims(np.ones_like(x_train), axis=1)  # Bias term
    phi1 = basis_func(x_train)  # Basis functions
    phi = np.concatenate([phi0, phi1], axis=1)  # Construct the design matrix

    # Compute the weights using the normal equation
    w = np.linalg.inv(phi.T @ phi) @ phi.T @ y_train
    return w

def gradient_descent(x_train, y_train, basis_func, lr=0.01, epochs=1000):
    """使用梯度下降法优化模型参数"""
    phi0 = np.expand_dims(np.ones_like(x_train), axis=1)
    phi1 = basis_func(x_train)
    phi = np.concatenate([phi0, phi1], axis=1)  # Construct the design matrix

    w = np.zeros((phi.shape[1],))  # Initialize weights to zeros
    for epoch in range(epochs):
        # Compute the predicted values
        y_pred = phi @ w
        # Compute the gradient
        gradient = -2 * phi.T @ (y_train - y_pred) / len(y_train)
        # Update the weights
        w -= lr * gradient
    return w

def main(x_train, y_train):
    """
    训练模型，并返回从x到y的映射。
    """
    basis_func = gaussian_basis  # Example with Gaussian basis function
    # Compute optimized weights using least squares method
    w_ls = least_squares(x_train, y_train, basis_func)
    
    # Compute optimized weights using gradient descent method
    w_gd = gradient_descent(x_train, y_train, basis_func, lr=0.01, epochs=1000)

    def f(x, w):
        phi0 = np.expand_dims(np.ones_like(x), axis=1)
        phi1 = basis_func(x)
        phi = np.concatenate([phi0, phi1], axis=1)
        y = np.dot(phi, w)
        return y
    
    return f, w_ls, w_gd

def evaluate(ys, ys_pred):
    """评估模型。"""
    std = np.sqrt(np.mean(np.abs(ys - ys_pred) ** 2))  # Standard deviation of residuals
    return std

# 程序主入口（建议不要改动以下函数的接口）
if __name__ == '__main__':
    train_file = 'train.txt'  # 输入训练数据文件路径
    test_file = 'test.txt'    # 输入测试数据文件路径
    # 载入数据
    x_train, y_train = load_data(train_file)
    x_test, y_test = load_data(test_file)

    # 使用线性回归训练模型，返回一个函数f()使得y = f(x)
    f, w_ls, w_gd = main(x_train, y_train)

    # 训练集评估
    y_train_pred = f(x_train, w_ls)
    std = evaluate(y_train, y_train_pred)
    print('训练集预测值与真实值的标准差（最小二乘法）：{:.1f}'.format(std))

    # 使用测试集评估模型
    y_test_pred = f(x_test, w_ls)
    std = evaluate(y_test, y_test_pred)
    print('预测值与真实值的标准差（最小二乘法）：{:.1f}'.format(std))

    # 显示结果
    plt.plot(x_train, y_train, 'ro', markersize=3)  # Training data in red
    plt.plot(x_test, y_test_pred, 'k')  # Test data prediction in black
    plt.xlabel('x')
    plt.ylabel('y')
    plt.title('Linear Regression with Least Squares')
    plt.legend(['train', 'test', 'pred'])
    plt.show()
